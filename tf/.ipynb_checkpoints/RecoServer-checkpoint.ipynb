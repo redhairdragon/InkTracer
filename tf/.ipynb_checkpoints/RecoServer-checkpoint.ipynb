{
 "cells": [
  {
   "cell_type": "code",
   "execution_count": 115,
   "metadata": {},
   "outputs": [],
   "source": [
    "import os\n",
    "os.environ[\"CUDA_DEVICE_ORDER\"] = \"PCI_BUS_ID\"   # see issue #152\n",
    "os.environ[\"CUDA_VISIBLE_DEVICES\"] = \"\"\n",
    "import tensorflow as tf\n",
    "from skimage import io\n",
    "from skimage.transform import rescale, resize, downscale_local_mean,rotate\n",
    "from skimage.exposure import adjust_gamma\n",
    "import base64\n",
    "import numpy as np\n",
    "def crop_image(img,tol=0):\n",
    "    # img is 2D image data\n",
    "    # tol  is tolerance\n",
    "    mask = img>tol\n",
    "    return img[np.ix_(mask.any(1),mask.any(0))]\n"
   ]
  },
  {
   "cell_type": "code",
   "execution_count": 116,
   "metadata": {},
   "outputs": [],
   "source": [
    "from tensorflow import keras \n",
    "model = keras.models.load_model('./cnn/')"
   ]
  },
  {
   "cell_type": "code",
   "execution_count": 145,
   "metadata": {},
   "outputs": [],
   "source": [
    "def decode(base64_string):\n",
    "    if isinstance(base64_string, bytes):\n",
    "        base64_string = base64_string.decode(\"utf-8\")\n",
    "\n",
    "    imgdata = base64.b64decode(base64_string)\n",
    "    img = io.imread(imgdata, plugin='imageio', as_gray=True)\n",
    "    img = crop_image(img)\n",
    "\n",
    "    img = np.pad(img, pad_width=max(img.shape)//4, mode='constant', constant_values=0)\n",
    "\n",
    "    image_resized = resize(img, (28,28),\n",
    "                       anti_aliasing=True)\n",
    "    return (image_resized>0.001).astype(int)*0.9999"
   ]
  },
  {
   "cell_type": "code",
   "execution_count": 159,
   "metadata": {},
   "outputs": [],
   "source": [
    "from flask import Flask, request, jsonify\n",
    "from flask_cors import CORS\n",
    "\n",
    "app = Flask(__name__)\n",
    "CORS(app)\n",
    "\n",
    "x = \"\" #for debugging\n",
    "@app.route('/',methods=['GET', 'POST'])\n",
    "def getDigit():\n",
    "    content = request.json\n",
    "    global x \n",
    "    x = decode(content['img'])\n",
    "    x = rotate(x,90)\n",
    "    ans = model.predict(x.reshape(-1,28,28,1))\n",
    "    print(ans)\n",
    "    return {'ans': str(np.argmax(ans))}\n"
   ]
  },
  {
   "cell_type": "code",
   "execution_count": null,
   "metadata": {},
   "outputs": [
    {
     "name": "stdout",
     "output_type": "stream",
     "text": [
      " * Serving Flask app \"__main__\" (lazy loading)\n",
      " * Environment: production\n",
      "\u001b[31m   WARNING: This is a development server. Do not use it in a production deployment.\u001b[0m\n",
      "\u001b[2m   Use a production WSGI server instead.\u001b[0m\n",
      " * Debug mode: off\n"
     ]
    },
    {
     "name": "stderr",
     "output_type": "stream",
     "text": [
      " * Running on http://0.0.0.0:4000/ (Press CTRL+C to quit)\n",
      "172.17.0.1 - - [18/Dec/2020 11:27:33] \"\u001b[37mOPTIONS / HTTP/1.1\u001b[0m\" 200 -\n",
      "[2020-12-18 11:27:33,640] ERROR in app: Exception on / [POST]\n",
      "Traceback (most recent call last):\n",
      "  File \"/usr/local/lib/python3.6/dist-packages/flask/app.py\", line 2447, in wsgi_app\n",
      "    response = self.full_dispatch_request()\n",
      "  File \"/usr/local/lib/python3.6/dist-packages/flask/app.py\", line 1953, in full_dispatch_request\n",
      "    return self.finalize_request(rv)\n",
      "  File \"/usr/local/lib/python3.6/dist-packages/flask/app.py\", line 1968, in finalize_request\n",
      "    response = self.make_response(rv)\n",
      "  File \"/usr/local/lib/python3.6/dist-packages/flask/app.py\", line 2112, in make_response\n",
      "    rv = jsonify(rv)\n",
      "  File \"/usr/local/lib/python3.6/dist-packages/flask/json/__init__.py\", line 370, in jsonify\n",
      "    dumps(data, indent=indent, separators=separators) + \"\\n\",\n",
      "  File \"/usr/local/lib/python3.6/dist-packages/flask/json/__init__.py\", line 211, in dumps\n",
      "    rv = _json.dumps(obj, **kwargs)\n",
      "  File \"/usr/lib/python3.6/json/__init__.py\", line 238, in dumps\n",
      "    **kw).encode(obj)\n",
      "  File \"/usr/lib/python3.6/json/encoder.py\", line 199, in encode\n",
      "    chunks = self.iterencode(o, _one_shot=True)\n",
      "  File \"/usr/lib/python3.6/json/encoder.py\", line 257, in iterencode\n",
      "    return _iterencode(o, 0)\n",
      "  File \"/usr/local/lib/python3.6/dist-packages/flask/json/__init__.py\", line 100, in default\n",
      "    return _json.JSONEncoder.default(self, o)\n",
      "  File \"/usr/lib/python3.6/json/encoder.py\", line 180, in default\n",
      "    o.__class__.__name__)\n",
      "TypeError: Object of type 'int64' is not JSON serializable\n",
      "172.17.0.1 - - [18/Dec/2020 11:27:33] \"\u001b[35m\u001b[1mPOST / HTTP/1.1\u001b[0m\" 500 -\n"
     ]
    },
    {
     "name": "stdout",
     "output_type": "stream",
     "text": [
      "[[8.4538604e-14 5.7815593e-22 1.0000000e+00 1.0353898e-24 3.6175120e-21\n",
      "  1.5280231e-27 2.4479591e-18 2.8856532e-27 1.1897203e-21 2.7405068e-33]]\n"
     ]
    }
   ],
   "source": [
    "app.run(host='0.0.0.0', port=4000)"
   ]
  },
  {
   "cell_type": "code",
   "execution_count": 155,
   "metadata": {},
   "outputs": [
    {
     "data": {
      "text/plain": [
       "2"
      ]
     },
     "execution_count": 155,
     "metadata": {},
     "output_type": "execute_result"
    }
   ],
   "source": [
    "np.argmax(np.array([[8.4538604e-14 ,5.7815593e-22, 1.0000000e+00]]))"
   ]
  },
  {
   "cell_type": "code",
   "execution_count": 151,
   "metadata": {
    "scrolled": false
   },
   "outputs": [
    {
     "data": {
      "text/plain": [
       "<matplotlib.image.AxesImage at 0x7f49b9c84908>"
      ]
     },
     "execution_count": 151,
     "metadata": {},
     "output_type": "execute_result"
    },
    {
     "data": {
      "image/png": "[encoded data removed]",
      "text/plain": [
       "<Figure size 432x288 with 1 Axes>"
      ]
     },
     "metadata": {
      "needs_background": "light"
     },
     "output_type": "display_data"
    }
   ],
   "source": [
    "io.imshow(x)"
   ]
  },
  {
   "cell_type": "code",
   "execution_count": 129,
   "metadata": {},
   "outputs": [
    {
     "data": {
      "text/plain": [
       "array([[0.    , 0.    , 0.    , 0.    , 0.    , 0.    , 0.    , 0.    ,\n",
       "        0.    , 0.    , 0.    , 0.    , 0.    , 0.    , 0.    , 0.    ,\n",
       "        0.    , 0.9999, 0.9999, 0.9999, 0.9999, 0.9999, 0.9999, 0.    ,\n",
       "        0.    , 0.    , 0.    , 0.    ],\n",
       "       [0.    , 0.    , 0.    , 0.    , 0.    , 0.    , 0.    , 0.    ,\n",
       "        0.    , 0.    , 0.    , 0.    , 0.    , 0.    , 0.    , 0.    ,\n",
       "        0.    , 0.    , 0.9999, 0.9999, 0.9999, 0.9999, 0.9999, 0.9999,\n",
       "        0.    , 0.    , 0.    , 0.    ],\n",
       "       [0.    , 0.    , 0.    , 0.    , 0.    , 0.    , 0.    , 0.    ,\n",
       "        0.    , 0.    , 0.    , 0.    , 0.    , 0.    , 0.    , 0.    ,\n",
       "        0.    , 0.    , 0.    , 0.9999, 0.9999, 0.9999, 0.9999, 0.9999,\n",
       "        0.9999, 0.    , 0.    , 0.    ],\n",
       "       [0.    , 0.    , 0.    , 0.    , 0.    , 0.    , 0.    , 0.    ,\n",
       "        0.    , 0.    , 0.    , 0.    , 0.    , 0.    , 0.    , 0.    ,\n",
       "        0.    , 0.    , 0.    , 0.    , 0.    , 0.9999, 0.9999, 0.9999,\n",
       "        0.9999, 0.9999, 0.    , 0.    ],\n",
       "       [0.    , 0.    , 0.    , 0.    , 0.    , 0.    , 0.    , 0.    ,\n",
       "        0.    , 0.    , 0.    , 0.    , 0.    , 0.    , 0.    , 0.    ,\n",
       "        0.    , 0.    , 0.    , 0.    , 0.    , 0.    , 0.9999, 0.9999,\n",
       "        0.9999, 0.9999, 0.9999, 0.    ],\n",
       "       [0.    , 0.    , 0.    , 0.    , 0.    , 0.    , 0.    , 0.    ,\n",
       "        0.    , 0.    , 0.    , 0.    , 0.    , 0.    , 0.    , 0.    ,\n",
       "        0.    , 0.    , 0.    , 0.    , 0.    , 0.    , 0.    , 0.9999,\n",
       "        0.9999, 0.9999, 0.9999, 0.    ],\n",
       "       [0.    , 0.    , 0.    , 0.    , 0.    , 0.    , 0.    , 0.    ,\n",
       "        0.    , 0.    , 0.    , 0.    , 0.    , 0.    , 0.    , 0.    ,\n",
       "        0.    , 0.    , 0.    , 0.    , 0.    , 0.    , 0.    , 0.    ,\n",
       "        0.9999, 0.9999, 0.9999, 0.9999],\n",
       "       [0.9999, 0.9999, 0.    , 0.    , 0.    , 0.    , 0.    , 0.    ,\n",
       "        0.    , 0.    , 0.    , 0.    , 0.    , 0.    , 0.    , 0.    ,\n",
       "        0.    , 0.    , 0.    , 0.    , 0.    , 0.    , 0.    , 0.    ,\n",
       "        0.9999, 0.9999, 0.9999, 0.9999],\n",
       "       [0.9999, 0.9999, 0.9999, 0.    , 0.    , 0.    , 0.    , 0.    ,\n",
       "        0.    , 0.    , 0.    , 0.    , 0.    , 0.    , 0.    , 0.    ,\n",
       "        0.    , 0.    , 0.    , 0.    , 0.    , 0.    , 0.    , 0.    ,\n",
       "        0.    , 0.9999, 0.9999, 0.9999],\n",
       "       [0.9999, 0.9999, 0.9999, 0.9999, 0.    , 0.    , 0.    , 0.    ,\n",
       "        0.    , 0.    , 0.    , 0.    , 0.    , 0.    , 0.    , 0.    ,\n",
       "        0.    , 0.    , 0.    , 0.    , 0.    , 0.    , 0.    , 0.    ,\n",
       "        0.    , 0.9999, 0.9999, 0.9999],\n",
       "       [0.9999, 0.9999, 0.9999, 0.9999, 0.9999, 0.    , 0.    , 0.    ,\n",
       "        0.    , 0.    , 0.    , 0.    , 0.    , 0.    , 0.    , 0.    ,\n",
       "        0.    , 0.    , 0.    , 0.    , 0.    , 0.    , 0.    , 0.    ,\n",
       "        0.    , 0.    , 0.9999, 0.9999],\n",
       "       [0.9999, 0.9999, 0.9999, 0.9999, 0.9999, 0.9999, 0.    , 0.    ,\n",
       "        0.    , 0.    , 0.    , 0.    , 0.    , 0.    , 0.    , 0.    ,\n",
       "        0.    , 0.    , 0.    , 0.    , 0.    , 0.    , 0.    , 0.    ,\n",
       "        0.    , 0.    , 0.9999, 0.9999],\n",
       "       [0.    , 0.9999, 0.9999, 0.9999, 0.9999, 0.9999, 0.9999, 0.    ,\n",
       "        0.    , 0.    , 0.    , 0.    , 0.    , 0.    , 0.    , 0.    ,\n",
       "        0.    , 0.    , 0.    , 0.    , 0.    , 0.    , 0.    , 0.    ,\n",
       "        0.    , 0.    , 0.9999, 0.9999],\n",
       "       [0.    , 0.    , 0.9999, 0.9999, 0.9999, 0.9999, 0.9999, 0.9999,\n",
       "        0.    , 0.    , 0.    , 0.    , 0.    , 0.    , 0.    , 0.    ,\n",
       "        0.    , 0.    , 0.    , 0.    , 0.    , 0.    , 0.    , 0.    ,\n",
       "        0.    , 0.9999, 0.9999, 0.9999],\n",
       "       [0.    , 0.    , 0.    , 0.9999, 0.9999, 0.9999, 0.9999, 0.9999,\n",
       "        0.9999, 0.    , 0.    , 0.    , 0.    , 0.    , 0.    , 0.    ,\n",
       "        0.    , 0.    , 0.    , 0.    , 0.    , 0.    , 0.    , 0.    ,\n",
       "        0.    , 0.9999, 0.9999, 0.9999],\n",
       "       [0.    , 0.    , 0.    , 0.    , 0.9999, 0.9999, 0.9999, 0.9999,\n",
       "        0.9999, 0.9999, 0.    , 0.    , 0.    , 0.    , 0.    , 0.    ,\n",
       "        0.    , 0.    , 0.    , 0.    , 0.    , 0.    , 0.    , 0.    ,\n",
       "        0.9999, 0.9999, 0.9999, 0.9999],\n",
       "       [0.    , 0.    , 0.    , 0.    , 0.    , 0.9999, 0.9999, 0.9999,\n",
       "        0.9999, 0.9999, 0.9999, 0.9999, 0.9999, 0.    , 0.    , 0.    ,\n",
       "        0.    , 0.    , 0.    , 0.    , 0.    , 0.    , 0.    , 0.9999,\n",
       "        0.9999, 0.9999, 0.9999, 0.9999],\n",
       "       [0.    , 0.    , 0.    , 0.    , 0.    , 0.    , 0.9999, 0.9999,\n",
       "        0.9999, 0.9999, 0.9999, 0.9999, 0.9999, 0.9999, 0.9999, 0.9999,\n",
       "        0.9999, 0.9999, 0.9999, 0.9999, 0.9999, 0.9999, 0.9999, 0.9999,\n",
       "        0.9999, 0.9999, 0.9999, 0.    ],\n",
       "       [0.    , 0.    , 0.    , 0.    , 0.    , 0.    , 0.    , 0.    ,\n",
       "        0.9999, 0.9999, 0.9999, 0.9999, 0.9999, 0.9999, 0.9999, 0.9999,\n",
       "        0.9999, 0.9999, 0.9999, 0.9999, 0.9999, 0.9999, 0.9999, 0.9999,\n",
       "        0.9999, 0.9999, 0.    , 0.    ],\n",
       "       [0.    , 0.    , 0.    , 0.    , 0.    , 0.    , 0.    , 0.    ,\n",
       "        0.    , 0.9999, 0.9999, 0.9999, 0.9999, 0.9999, 0.9999, 0.9999,\n",
       "        0.9999, 0.9999, 0.9999, 0.9999, 0.9999, 0.9999, 0.9999, 0.9999,\n",
       "        0.9999, 0.    , 0.    , 0.    ],\n",
       "       [0.    , 0.    , 0.    , 0.    , 0.    , 0.    , 0.    , 0.    ,\n",
       "        0.    , 0.9999, 0.9999, 0.9999, 0.9999, 0.9999, 0.    , 0.9999,\n",
       "        0.9999, 0.9999, 0.9999, 0.9999, 0.9999, 0.9999, 0.9999, 0.    ,\n",
       "        0.    , 0.    , 0.    , 0.    ],\n",
       "       [0.    , 0.    , 0.    , 0.    , 0.    , 0.    , 0.    , 0.    ,\n",
       "        0.    , 0.    , 0.9999, 0.9999, 0.9999, 0.9999, 0.    , 0.    ,\n",
       "        0.    , 0.    , 0.    , 0.    , 0.    , 0.    , 0.    , 0.    ,\n",
       "        0.    , 0.    , 0.    , 0.    ],\n",
       "       [0.    , 0.    , 0.    , 0.    , 0.    , 0.    , 0.    , 0.    ,\n",
       "        0.    , 0.    , 0.    , 0.9999, 0.9999, 0.9999, 0.9999, 0.    ,\n",
       "        0.    , 0.    , 0.    , 0.    , 0.    , 0.    , 0.    , 0.    ,\n",
       "        0.    , 0.    , 0.    , 0.    ],\n",
       "       [0.    , 0.    , 0.    , 0.    , 0.    , 0.    , 0.    , 0.    ,\n",
       "        0.    , 0.    , 0.    , 0.9999, 0.9999, 0.9999, 0.9999, 0.9999,\n",
       "        0.    , 0.    , 0.    , 0.    , 0.    , 0.    , 0.    , 0.    ,\n",
       "        0.    , 0.    , 0.    , 0.    ],\n",
       "       [0.    , 0.    , 0.    , 0.    , 0.    , 0.    , 0.    , 0.    ,\n",
       "        0.    , 0.    , 0.    , 0.    , 0.9999, 0.9999, 0.9999, 0.9999,\n",
       "        0.9999, 0.    , 0.    , 0.    , 0.    , 0.    , 0.    , 0.    ,\n",
       "        0.    , 0.    , 0.    , 0.    ],\n",
       "       [0.    , 0.    , 0.    , 0.    , 0.    , 0.    , 0.    , 0.    ,\n",
       "        0.    , 0.    , 0.    , 0.    , 0.    , 0.9999, 0.9999, 0.9999,\n",
       "        0.9999, 0.9999, 0.    , 0.    , 0.    , 0.    , 0.    , 0.    ,\n",
       "        0.    , 0.    , 0.    , 0.    ],\n",
       "       [0.    , 0.    , 0.    , 0.    , 0.    , 0.    , 0.    , 0.    ,\n",
       "        0.    , 0.    , 0.    , 0.    , 0.    , 0.    , 0.9999, 0.9999,\n",
       "        0.9999, 0.9999, 0.9999, 0.    , 0.    , 0.    , 0.    , 0.    ,\n",
       "        0.    , 0.    , 0.    , 0.    ],\n",
       "       [0.    , 0.    , 0.    , 0.    , 0.    , 0.    , 0.    , 0.    ,\n",
       "        0.    , 0.    , 0.    , 0.    , 0.    , 0.    , 0.    , 0.9999,\n",
       "        0.9999, 0.9999, 0.9999, 0.9999, 0.    , 0.    , 0.    , 0.    ,\n",
       "        0.    , 0.    , 0.    , 0.    ]])"
      ]
     },
     "execution_count": 129,
     "metadata": {},
     "output_type": "execute_result"
    }
   ],
   "source": [
    "x"
   ]
  },
  {
   "cell_type": "code",
   "execution_count": null,
   "metadata": {},
   "outputs": [],
   "source": []
  },
  {
   "cell_type": "code",
   "execution_count": 104,
   "metadata": {
    "scrolled": true
   },
   "outputs": [
    {
     "data": {
      "text/plain": [
       "<matplotlib.image.AxesImage at 0x7f49bab11940>"
      ]
     },
     "execution_count": 104,
     "metadata": {},
     "output_type": "execute_result"
    },
    {
     "data": {
      "image/png": "[encoded data removed]",
      "text/plain": [
       "<Figure size 432x288 with 1 Axes>"
      ]
     },
     "metadata": {
      "needs_background": "light"
     },
     "output_type": "display_data"
    }
   ],
   "source": []
  },
  {
   "cell_type": "code",
   "execution_count": 66,
   "metadata": {},
   "outputs": [],
   "source": [
    "x = \"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\""
   ]
  },
  {
   "cell_type": "code",
   "execution_count": 67,
   "metadata": {},
   "outputs": [],
   "source": [
    "def decodex(base64_string):\n",
    "    if isinstance(base64_string, bytes):\n",
    "        base64_string = base64_string.decode(\"utf-8\")\n",
    "\n",
    "    imgdata = base64.b64decode(base64_string)\n",
    "    img = io.imread(imgdata, plugin='imageio', as_gray=True)\n",
    "#     image_resized = resize(img, (28,28),\n",
    "#                        anti_aliasing=False)\n",
    "    return img"
   ]
  },
  {
   "cell_type": "code",
   "execution_count": 68,
   "metadata": {},
   "outputs": [],
   "source": [
    "m=decodex(x)"
   ]
  },
  {
   "cell_type": "code",
   "execution_count": 69,
   "metadata": {},
   "outputs": [
    {
     "data": {
      "text/plain": [
       "<matplotlib.image.AxesImage at 0x7f49baf3d198>"
      ]
     },
     "execution_count": 69,
     "metadata": {},
     "output_type": "execute_result"
    },
    {
     "data": {
      "image/png": "[encoded data removed]",
      "text/plain": [
       "<Figure size 432x288 with 2 Axes>"
      ]
     },
     "metadata": {
      "needs_background": "light"
     },
     "output_type": "display_data"
    }
   ],
   "source": [
    "io.imshow(m)"
   ]
  },
  {
   "cell_type": "code",
   "execution_count": 70,
   "metadata": {},
   "outputs": [],
   "source": []
  },
  {
   "cell_type": "code",
   "execution_count": 71,
   "metadata": {},
   "outputs": [],
   "source": [
    "m = crop_image(m,2)"
   ]
  },
  {
   "cell_type": "code",
   "execution_count": 72,
   "metadata": {},
   "outputs": [
    {
     "ename": "ValueError",
     "evalue": "zero-size array to reduction operation minimum which has no identity",
     "output_type": "error",
     "traceback": [
      "\u001b[0;31m---------------------------------------------------------------------------\u001b[0m",
      "\u001b[0;31mValueError\u001b[0m                                Traceback (most recent call last)",
      "\u001b[0;32m<ipython-input-72-7ea9bb84f2fd>\u001b[0m in \u001b[0;36m<module>\u001b[0;34m\u001b[0m\n\u001b[0;32m----> 1\u001b[0;31m \u001b[0mio\u001b[0m\u001b[0;34m.\u001b[0m\u001b[0mimshow\u001b[0m\u001b[0;34m(\u001b[0m\u001b[0mm\u001b[0m\u001b[0;34m)\u001b[0m\u001b[0;34m\u001b[0m\u001b[0;34m\u001b[0m\u001b[0m\n\u001b[0m",
      "\u001b[0;32m/usr/local/lib/python3.6/dist-packages/skimage/io/_io.py\u001b[0m in \u001b[0;36mimshow\u001b[0;34m(arr, plugin, **plugin_args)\u001b[0m\n\u001b[1;32m    157\u001b[0m     \u001b[0;32mif\u001b[0m \u001b[0misinstance\u001b[0m\u001b[0;34m(\u001b[0m\u001b[0marr\u001b[0m\u001b[0;34m,\u001b[0m \u001b[0mstr\u001b[0m\u001b[0;34m)\u001b[0m\u001b[0;34m:\u001b[0m\u001b[0;34m\u001b[0m\u001b[0;34m\u001b[0m\u001b[0m\n\u001b[1;32m    158\u001b[0m         \u001b[0marr\u001b[0m \u001b[0;34m=\u001b[0m \u001b[0mcall_plugin\u001b[0m\u001b[0;34m(\u001b[0m\u001b[0;34m'imread'\u001b[0m\u001b[0;34m,\u001b[0m \u001b[0marr\u001b[0m\u001b[0;34m,\u001b[0m \u001b[0mplugin\u001b[0m\u001b[0;34m=\u001b[0m\u001b[0mplugin\u001b[0m\u001b[0;34m)\u001b[0m\u001b[0;34m\u001b[0m\u001b[0;34m\u001b[0m\u001b[0m\n\u001b[0;32m--> 159\u001b[0;31m     \u001b[0;32mreturn\u001b[0m \u001b[0mcall_plugin\u001b[0m\u001b[0;34m(\u001b[0m\u001b[0;34m'imshow'\u001b[0m\u001b[0;34m,\u001b[0m \u001b[0marr\u001b[0m\u001b[0;34m,\u001b[0m \u001b[0mplugin\u001b[0m\u001b[0;34m=\u001b[0m\u001b[0mplugin\u001b[0m\u001b[0;34m,\u001b[0m \u001b[0;34m**\u001b[0m\u001b[0mplugin_args\u001b[0m\u001b[0;34m)\u001b[0m\u001b[0;34m\u001b[0m\u001b[0;34m\u001b[0m\u001b[0m\n\u001b[0m\u001b[1;32m    160\u001b[0m \u001b[0;34m\u001b[0m\u001b[0m\n\u001b[1;32m    161\u001b[0m \u001b[0;34m\u001b[0m\u001b[0m\n",
      "\u001b[0;32m/usr/local/lib/python3.6/dist-packages/skimage/io/manage_plugins.py\u001b[0m in \u001b[0;36mcall_plugin\u001b[0;34m(kind, *args, **kwargs)\u001b[0m\n\u001b[1;32m    207\u001b[0m                                (plugin, kind))\n\u001b[1;32m    208\u001b[0m \u001b[0;34m\u001b[0m\u001b[0m\n\u001b[0;32m--> 209\u001b[0;31m     \u001b[0;32mreturn\u001b[0m \u001b[0mfunc\u001b[0m\u001b[0;34m(\u001b[0m\u001b[0;34m*\u001b[0m\u001b[0margs\u001b[0m\u001b[0;34m,\u001b[0m \u001b[0;34m**\u001b[0m\u001b[0mkwargs\u001b[0m\u001b[0;34m)\u001b[0m\u001b[0;34m\u001b[0m\u001b[0;34m\u001b[0m\u001b[0m\n\u001b[0m\u001b[1;32m    210\u001b[0m \u001b[0;34m\u001b[0m\u001b[0m\n\u001b[1;32m    211\u001b[0m \u001b[0;34m\u001b[0m\u001b[0m\n",
      "\u001b[0;32m/usr/local/lib/python3.6/dist-packages/skimage/io/_plugins/matplotlib_plugin.py\u001b[0m in \u001b[0;36mimshow\u001b[0;34m(image, ax, show_cbar, **kwargs)\u001b[0m\n\u001b[1;32m    148\u001b[0m     \u001b[0;32mimport\u001b[0m \u001b[0mmatplotlib\u001b[0m\u001b[0;34m.\u001b[0m\u001b[0mpyplot\u001b[0m \u001b[0;32mas\u001b[0m \u001b[0mplt\u001b[0m\u001b[0;34m\u001b[0m\u001b[0;34m\u001b[0m\u001b[0m\n\u001b[1;32m    149\u001b[0m \u001b[0;34m\u001b[0m\u001b[0m\n\u001b[0;32m--> 150\u001b[0;31m     \u001b[0mlo\u001b[0m\u001b[0;34m,\u001b[0m \u001b[0mhi\u001b[0m\u001b[0;34m,\u001b[0m \u001b[0mcmap\u001b[0m \u001b[0;34m=\u001b[0m \u001b[0m_get_display_range\u001b[0m\u001b[0;34m(\u001b[0m\u001b[0mimage\u001b[0m\u001b[0;34m)\u001b[0m\u001b[0;34m\u001b[0m\u001b[0;34m\u001b[0m\u001b[0m\n\u001b[0m\u001b[1;32m    151\u001b[0m \u001b[0;34m\u001b[0m\u001b[0m\n\u001b[1;32m    152\u001b[0m     \u001b[0mkwargs\u001b[0m\u001b[0;34m.\u001b[0m\u001b[0msetdefault\u001b[0m\u001b[0;34m(\u001b[0m\u001b[0;34m'interpolation'\u001b[0m\u001b[0;34m,\u001b[0m \u001b[0;34m'nearest'\u001b[0m\u001b[0;34m)\u001b[0m\u001b[0;34m\u001b[0m\u001b[0;34m\u001b[0m\u001b[0m\n",
      "\u001b[0;32m/usr/local/lib/python3.6/dist-packages/skimage/io/_plugins/matplotlib_plugin.py\u001b[0m in \u001b[0;36m_get_display_range\u001b[0;34m(image)\u001b[0m\n\u001b[1;32m     95\u001b[0m         \u001b[0mThe\u001b[0m \u001b[0mname\u001b[0m \u001b[0mof\u001b[0m \u001b[0mthe\u001b[0m \u001b[0mcolormap\u001b[0m \u001b[0mto\u001b[0m \u001b[0muse\u001b[0m\u001b[0;34m.\u001b[0m\u001b[0;34m\u001b[0m\u001b[0;34m\u001b[0m\u001b[0m\n\u001b[1;32m     96\u001b[0m     \"\"\"\n\u001b[0;32m---> 97\u001b[0;31m     \u001b[0mip\u001b[0m \u001b[0;34m=\u001b[0m \u001b[0m_get_image_properties\u001b[0m\u001b[0;34m(\u001b[0m\u001b[0mimage\u001b[0m\u001b[0;34m)\u001b[0m\u001b[0;34m\u001b[0m\u001b[0;34m\u001b[0m\u001b[0m\n\u001b[0m\u001b[1;32m     98\u001b[0m     \u001b[0mimmin\u001b[0m\u001b[0;34m,\u001b[0m \u001b[0mimmax\u001b[0m \u001b[0;34m=\u001b[0m \u001b[0mnp\u001b[0m\u001b[0;34m.\u001b[0m\u001b[0mmin\u001b[0m\u001b[0;34m(\u001b[0m\u001b[0mimage\u001b[0m\u001b[0;34m)\u001b[0m\u001b[0;34m,\u001b[0m \u001b[0mnp\u001b[0m\u001b[0;34m.\u001b[0m\u001b[0mmax\u001b[0m\u001b[0;34m(\u001b[0m\u001b[0mimage\u001b[0m\u001b[0;34m)\u001b[0m\u001b[0;34m\u001b[0m\u001b[0;34m\u001b[0m\u001b[0m\n\u001b[1;32m     99\u001b[0m     \u001b[0;32mif\u001b[0m \u001b[0mip\u001b[0m\u001b[0;34m.\u001b[0m\u001b[0msigned\u001b[0m\u001b[0;34m:\u001b[0m\u001b[0;34m\u001b[0m\u001b[0;34m\u001b[0m\u001b[0m\n",
      "\u001b[0;32m/usr/local/lib/python3.6/dist-packages/skimage/io/_plugins/matplotlib_plugin.py\u001b[0m in \u001b[0;36m_get_image_properties\u001b[0;34m(image)\u001b[0m\n\u001b[1;32m     42\u001b[0m           \u001b[0mstandard\u001b[0m \u001b[0mskimage\u001b[0m \u001b[0mtype\u001b[0m\u001b[0;34m,\u001b[0m \u001b[0me\u001b[0m\u001b[0;34m.\u001b[0m\u001b[0mg\u001b[0m\u001b[0;34m.\u001b[0m\u001b[0;31m \u001b[0m\u001b[0;31m`\u001b[0m\u001b[0;31m`\u001b[0m\u001b[0mnumpy\u001b[0m\u001b[0;34m.\u001b[0m\u001b[0muint64\u001b[0m\u001b[0;31m`\u001b[0m\u001b[0;31m`\u001b[0m\u001b[0;34m.\u001b[0m\u001b[0;34m\u001b[0m\u001b[0;34m\u001b[0m\u001b[0m\n\u001b[1;32m     43\u001b[0m     \"\"\"\n\u001b[0;32m---> 44\u001b[0;31m     \u001b[0mimmin\u001b[0m\u001b[0;34m,\u001b[0m \u001b[0mimmax\u001b[0m \u001b[0;34m=\u001b[0m \u001b[0mnp\u001b[0m\u001b[0;34m.\u001b[0m\u001b[0mmin\u001b[0m\u001b[0;34m(\u001b[0m\u001b[0mimage\u001b[0m\u001b[0;34m)\u001b[0m\u001b[0;34m,\u001b[0m \u001b[0mnp\u001b[0m\u001b[0;34m.\u001b[0m\u001b[0mmax\u001b[0m\u001b[0;34m(\u001b[0m\u001b[0mimage\u001b[0m\u001b[0;34m)\u001b[0m\u001b[0;34m\u001b[0m\u001b[0;34m\u001b[0m\u001b[0m\n\u001b[0m\u001b[1;32m     45\u001b[0m     \u001b[0mimtype\u001b[0m \u001b[0;34m=\u001b[0m \u001b[0mimage\u001b[0m\u001b[0;34m.\u001b[0m\u001b[0mdtype\u001b[0m\u001b[0;34m.\u001b[0m\u001b[0mtype\u001b[0m\u001b[0;34m\u001b[0m\u001b[0;34m\u001b[0m\u001b[0m\n\u001b[1;32m     46\u001b[0m     \u001b[0;32mtry\u001b[0m\u001b[0;34m:\u001b[0m\u001b[0;34m\u001b[0m\u001b[0;34m\u001b[0m\u001b[0m\n",
      "\u001b[0;32m<__array_function__ internals>\u001b[0m in \u001b[0;36mamin\u001b[0;34m(*args, **kwargs)\u001b[0m\n",
      "\u001b[0;32m/usr/local/lib/python3.6/dist-packages/numpy/core/fromnumeric.py\u001b[0m in \u001b[0;36mamin\u001b[0;34m(a, axis, out, keepdims, initial, where)\u001b[0m\n\u001b[1;32m   2829\u001b[0m     \"\"\"\n\u001b[1;32m   2830\u001b[0m     return _wrapreduction(a, np.minimum, 'min', axis, None, out,\n\u001b[0;32m-> 2831\u001b[0;31m                           keepdims=keepdims, initial=initial, where=where)\n\u001b[0m\u001b[1;32m   2832\u001b[0m \u001b[0;34m\u001b[0m\u001b[0m\n\u001b[1;32m   2833\u001b[0m \u001b[0;34m\u001b[0m\u001b[0m\n",
      "\u001b[0;32m/usr/local/lib/python3.6/dist-packages/numpy/core/fromnumeric.py\u001b[0m in \u001b[0;36m_wrapreduction\u001b[0;34m(obj, ufunc, method, axis, dtype, out, **kwargs)\u001b[0m\n\u001b[1;32m     85\u001b[0m                 \u001b[0;32mreturn\u001b[0m \u001b[0mreduction\u001b[0m\u001b[0;34m(\u001b[0m\u001b[0maxis\u001b[0m\u001b[0;34m=\u001b[0m\u001b[0maxis\u001b[0m\u001b[0;34m,\u001b[0m \u001b[0mout\u001b[0m\u001b[0;34m=\u001b[0m\u001b[0mout\u001b[0m\u001b[0;34m,\u001b[0m \u001b[0;34m**\u001b[0m\u001b[0mpasskwargs\u001b[0m\u001b[0;34m)\u001b[0m\u001b[0;34m\u001b[0m\u001b[0;34m\u001b[0m\u001b[0m\n\u001b[1;32m     86\u001b[0m \u001b[0;34m\u001b[0m\u001b[0m\n\u001b[0;32m---> 87\u001b[0;31m     \u001b[0;32mreturn\u001b[0m \u001b[0mufunc\u001b[0m\u001b[0;34m.\u001b[0m\u001b[0mreduce\u001b[0m\u001b[0;34m(\u001b[0m\u001b[0mobj\u001b[0m\u001b[0;34m,\u001b[0m \u001b[0maxis\u001b[0m\u001b[0;34m,\u001b[0m \u001b[0mdtype\u001b[0m\u001b[0;34m,\u001b[0m \u001b[0mout\u001b[0m\u001b[0;34m,\u001b[0m \u001b[0;34m**\u001b[0m\u001b[0mpasskwargs\u001b[0m\u001b[0;34m)\u001b[0m\u001b[0;34m\u001b[0m\u001b[0;34m\u001b[0m\u001b[0m\n\u001b[0m\u001b[1;32m     88\u001b[0m \u001b[0;34m\u001b[0m\u001b[0m\n\u001b[1;32m     89\u001b[0m \u001b[0;34m\u001b[0m\u001b[0m\n",
      "\u001b[0;31mValueError\u001b[0m: zero-size array to reduction operation minimum which has no identity"
     ]
    }
   ],
   "source": [
    "io.imshow(m)"
   ]
  },
  {
   "cell_type": "code",
   "execution_count": 45,
   "metadata": {},
   "outputs": [],
   "source": [
    "image_resized = resize(m, (28,28),\n",
    "                       anti_aliasing=False)"
   ]
  },
  {
   "cell_type": "code",
   "execution_count": 46,
   "metadata": {},
   "outputs": [
    {
     "data": {
      "text/plain": [
       "<matplotlib.image.AxesImage at 0x7f49c02dba20>"
      ]
     },
     "execution_count": 46,
     "metadata": {},
     "output_type": "execute_result"
    },
    {
     "data": {
      "image/png": "[encoded data removed]",
      "text/plain": [
       "<Figure size 432x288 with 2 Axes>"
      ]
     },
     "metadata": {
      "needs_background": "light"
     },
     "output_type": "display_data"
    }
   ],
   "source": [
    "io.imshow(image_resized)"
   ]
  },
  {
   "cell_type": "code",
   "execution_count": null,
   "metadata": {},
   "outputs": [],
   "source": []
  }
 ],
 "metadata": {
  "kernelspec": {
   "display_name": "Python 3",
   "language": "python",
   "name": "python3"
  },
  "language_info": {
   "codemirror_mode": {
    "name": "ipython",
    "version": 3
   },
   "file_extension": ".py",
   "mimetype": "text/x-python",
   "name": "python",
   "nbconvert_exporter": "python",
   "pygments_lexer": "ipython3",
   "version": "3.6.9"
  }
 },
 "nbformat": 4,
 "nbformat_minor": 4
}
